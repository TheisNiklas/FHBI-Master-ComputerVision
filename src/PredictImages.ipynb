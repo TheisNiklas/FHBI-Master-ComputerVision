{
 "cells": [
  {
   "cell_type": "code",
   "execution_count": 26,
   "metadata": {},
   "outputs": [],
   "source": [
    "# imports\n",
    "import tensorflow as tf\n",
    "from dataLoader import DataLoader\n",
    "from modelLoader import ModelLoader\n",
    "import numpy as np"
   ]
  },
  {
   "cell_type": "code",
   "execution_count": 27,
   "metadata": {},
   "outputs": [
    {
     "name": "stdout",
     "output_type": "stream",
     "text": [
      "Found 4 files belonging to 1 classes.\n"
     ]
    }
   ],
   "source": [
    "# Intended for manually predicting images\n",
    "\n",
    "image_ds = tf.keras.utils.image_dataset_from_directory(\n",
    "            \"../data/test\",\n",
    "            shuffle=False,\n",
    "            image_size=(224, 224),\n",
    "            batch_size=10,\n",
    "            labels=\"inferred\",\n",
    "        )  # type: ignore\n",
    "\n",
    "image, label = image_ds.as_numpy_iterator().next()"
   ]
  },
  {
   "cell_type": "code",
   "execution_count": 28,
   "metadata": {},
   "outputs": [],
   "source": [
    "model = ModelLoader().loadTrainedModel(\"../models/MobileNetV1_TL_transfer_epochs-10_batch-32/\")\n",
    "predictions = model.predict_on_batch(image).flatten()\n"
   ]
  },
  {
   "cell_type": "code",
   "execution_count": 29,
   "metadata": {},
   "outputs": [
    {
     "data": {
      "text/plain": [
       "array([0.9999987 , 0.00141669, 0.7704307 , 0.00143772], dtype=float32)"
      ]
     },
     "execution_count": 29,
     "metadata": {},
     "output_type": "execute_result"
    }
   ],
   "source": [
    "predictions"
   ]
  }
 ],
 "metadata": {
  "kernelspec": {
   "display_name": "Python 3.9.5 ('.env': venv)",
   "language": "python",
   "name": "python3"
  },
  "language_info": {
   "codemirror_mode": {
    "name": "ipython",
    "version": 3
   },
   "file_extension": ".py",
   "mimetype": "text/x-python",
   "name": "python",
   "nbconvert_exporter": "python",
   "pygments_lexer": "ipython3",
   "version": "3.9.5"
  },
  "orig_nbformat": 4,
  "vscode": {
   "interpreter": {
    "hash": "050a86c1e49b50a939c7f1648b7e57d527ba12504a9b8cc8c9f6f359e0405f48"
   }
  }
 },
 "nbformat": 4,
 "nbformat_minor": 2
}
