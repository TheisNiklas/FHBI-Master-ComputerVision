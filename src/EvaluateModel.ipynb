{
 "cells": [
  {
   "cell_type": "code",
   "execution_count": 2,
   "metadata": {},
   "outputs": [],
   "source": [
    "# imports\n",
    "import tensorflow as tf\n",
    "from dataLoader import DataLoader\n",
    "from modelLoader import ModelLoader\n",
    "from utils import buildRunName"
   ]
  },
  {
   "cell_type": "code",
   "execution_count": 3,
   "metadata": {},
   "outputs": [],
   "source": [
    "# Params\n",
    "dataDir = \"../data/\"\n",
    "\n",
    "batchSizes = [32, 64]\n",
    "\n",
    "shuffleSeed = 123\n",
    "\n",
    "transferLearning = False\n",
    "\n",
    "epochCounts = [10, 20, 50, 100]\n",
    "\n",
    "currentBatchSize = batchSizes[0]\n",
    "currentEpochCount = epochCounts[0]"
   ]
  },
  {
   "cell_type": "code",
   "execution_count": 4,
   "metadata": {},
   "outputs": [],
   "source": [
    "#Constants & Utils\n",
    "modelName = \"MobileNetV1\"\n",
    "\n",
    "@tf.autograph.experimental.do_not_convert\n",
    "def evaluateModel():\n",
    "    \"\"\"\n",
    "    Loads a a specified model and evaluates it on the test dataset\n",
    "    \"\"\"\n",
    "    currentRunName = buildRunName(modelName, transferLearning, currentEpochCount,  currentBatchSize)\n",
    "    print(f'-------- Now evaluating: {currentRunName} --------')\n",
    "    model = ModelLoader().loadTrainedModel(\"../models/\" + currentRunName)\n",
    "    result = model.evaluate(test_ds)\n",
    "    \n",
    "@tf.autograph.experimental.do_not_convert\n",
    "def evaluateCheckpoint(model: tf.keras.Model, checkpoint:int):\n",
    "    \"\"\"\n",
    "    Loads the weights of a checkpoint into `model` and evaluates it in the test dataset\n",
    "    \"\"\"\n",
    "    print(f'-------- Now evaluating: Checkpoint {checkpoint} --------')\n",
    "    model.load_weights(\"../models/checkpoints/MobileNetV1_CheckpointTest_scratch_epochs-50_batch-32/\" + str(checkpoint).zfill(2) + \".hdf5\")\n",
    "    result = model.evaluate(test_ds)"
   ]
  },
  {
   "cell_type": "code",
   "execution_count": 5,
   "metadata": {},
   "outputs": [
    {
     "name": "stdout",
     "output_type": "stream",
     "text": [
      "Found 15561 files belonging to 2 classes.\n"
     ]
    }
   ],
   "source": [
    "train_ds, _, test_ds = DataLoader().loadDatasets(dataDir, 64)"
   ]
  },
  {
   "cell_type": "code",
   "execution_count": null,
   "metadata": {},
   "outputs": [],
   "source": [
    "# evaluate models from run with different epoch counts\n",
    "for batchSize in batchSizes:\n",
    "    currentBatchSize = batchSize\n",
    "    for epochCount in epochCounts:\n",
    "        currentEpochCount = epochCount\n",
    "        evaluateModel()"
   ]
  },
  {
   "cell_type": "code",
   "execution_count": 10,
   "metadata": {},
   "outputs": [
    {
     "name": "stdout",
     "output_type": "stream",
     "text": [
      "-------- Now evaluating: Checkpoint 1 --------\n",
      "37/37 [==============================] - 71s 113ms/step - loss: 0.7131 - accuracy: 0.5507 - false_negatives: 0.0000e+00 - false_positives: 1049.0000\n",
      "-------- Now evaluating: Checkpoint 2 --------\n",
      "37/37 [==============================] - 20s 87ms/step - loss: 0.3441 - accuracy: 0.8313 - false_negatives: 368.0000 - false_positives: 26.0000\n",
      "-------- Now evaluating: Checkpoint 3 --------\n",
      "37/37 [==============================] - 21s 88ms/step - loss: 0.5790 - accuracy: 0.8158 - false_negatives: 5.0000 - false_positives: 425.0000\n",
      "-------- Now evaluating: Checkpoint 4 --------\n",
      "37/37 [==============================] - 23s 90ms/step - loss: 0.1503 - accuracy: 0.9430 - false_negatives: 126.0000 - false_positives: 7.0000\n",
      "-------- Now evaluating: Checkpoint 5 --------\n",
      "37/37 [==============================] - 24s 91ms/step - loss: 0.1072 - accuracy: 0.9606 - false_negatives: 13.0000 - false_positives: 79.0000\n",
      "-------- Now evaluating: Checkpoint 6 --------\n",
      "37/37 [==============================] - 23s 92ms/step - loss: 0.2174 - accuracy: 0.9191 - false_negatives: 3.0000 - false_positives: 186.0000\n",
      "-------- Now evaluating: Checkpoint 7 --------\n",
      "37/37 [==============================] - 23s 89ms/step - loss: 0.1722 - accuracy: 0.9345 - false_negatives: 3.0000 - false_positives: 150.0000\n",
      "-------- Now evaluating: Checkpoint 8 --------\n",
      "37/37 [==============================] - 23s 91ms/step - loss: 0.2477 - accuracy: 0.9336 - false_negatives: 5.0000 - false_positives: 150.0000\n",
      "-------- Now evaluating: Checkpoint 9 --------\n",
      "37/37 [==============================] - 24s 90ms/step - loss: 0.1384 - accuracy: 0.9486 - false_negatives: 1.0000 - false_positives: 119.0000\n",
      "-------- Now evaluating: Checkpoint 10 --------\n",
      "37/37 [==============================] - 25s 90ms/step - loss: 0.1883 - accuracy: 0.9323 - false_negatives: 1.0000 - false_positives: 157.0000\n",
      "-------- Now evaluating: Checkpoint 11 --------\n",
      "37/37 [==============================] - 27s 92ms/step - loss: 0.0659 - accuracy: 0.9769 - false_negatives: 6.0000 - false_positives: 48.0000\n",
      "-------- Now evaluating: Checkpoint 12 --------\n",
      "37/37 [==============================] - 27s 93ms/step - loss: 0.0455 - accuracy: 0.9850 - false_negatives: 9.0000 - false_positives: 26.0000\n",
      "-------- Now evaluating: Checkpoint 13 --------\n",
      "37/37 [==============================] - 27s 93ms/step - loss: 0.1637 - accuracy: 0.9366 - false_negatives: 0.0000e+00 - false_positives: 148.0000\n",
      "-------- Now evaluating: Checkpoint 14 --------\n",
      "37/37 [==============================] - 26s 95ms/step - loss: 0.0433 - accuracy: 0.9824 - false_negatives: 7.0000 - false_positives: 34.0000\n",
      "-------- Now evaluating: Checkpoint 15 --------\n",
      "37/37 [==============================] - 28s 95ms/step - loss: 0.2928 - accuracy: 0.9328 - false_negatives: 2.0000 - false_positives: 155.0000\n",
      "-------- Now evaluating: Checkpoint 16 --------\n",
      "37/37 [==============================] - 29s 97ms/step - loss: 0.0254 - accuracy: 0.9919 - false_negatives: 8.0000 - false_positives: 11.0000\n",
      "-------- Now evaluating: Checkpoint 17 --------\n",
      "37/37 [==============================] - 28s 93ms/step - loss: 0.0665 - accuracy: 0.9786 - false_negatives: 11.0000 - false_positives: 39.0000\n",
      "-------- Now evaluating: Checkpoint 18 --------\n",
      "37/37 [==============================] - 29s 94ms/step - loss: 0.0109 - accuracy: 0.9961 - false_negatives: 6.0000 - false_positives: 3.0000\n",
      "-------- Now evaluating: Checkpoint 19 --------\n",
      "37/37 [==============================] - 36s 97ms/step - loss: 0.1137 - accuracy: 0.9589 - false_negatives: 4.0000 - false_positives: 92.0000\n",
      "-------- Now evaluating: Checkpoint 20 --------\n",
      "37/37 [==============================] - 32s 98ms/step - loss: 0.0503 - accuracy: 0.9807 - false_negatives: 0.0000e+00 - false_positives: 45.0000\n",
      "-------- Now evaluating: Checkpoint 21 --------\n",
      "37/37 [==============================] - 32s 99ms/step - loss: 0.0427 - accuracy: 0.9842 - false_negatives: 36.0000 - false_positives: 1.0000\n",
      "-------- Now evaluating: Checkpoint 22 --------\n",
      "37/37 [==============================] - 35s 98ms/step - loss: 0.0468 - accuracy: 0.9850 - false_negatives: 4.0000 - false_positives: 31.0000\n",
      "-------- Now evaluating: Checkpoint 23 --------\n",
      "37/37 [==============================] - 35s 98ms/step - loss: 0.0154 - accuracy: 0.9949 - false_negatives: 10.0000 - false_positives: 2.0000\n",
      "-------- Now evaluating: Checkpoint 24 --------\n",
      "37/37 [==============================] - 36s 98ms/step - loss: 0.0523 - accuracy: 0.9842 - false_negatives: 1.0000 - false_positives: 36.0000\n",
      "-------- Now evaluating: Checkpoint 25 --------\n",
      "37/37 [==============================] - 38s 98ms/step - loss: 0.0472 - accuracy: 0.9854 - false_negatives: 15.0000 - false_positives: 19.0000\n",
      "-------- Now evaluating: Checkpoint 26 --------\n",
      "37/37 [==============================] - 40s 99ms/step - loss: 0.0157 - accuracy: 0.9940 - false_negatives: 4.0000 - false_positives: 10.0000\n",
      "-------- Now evaluating: Checkpoint 27 --------\n",
      "37/37 [==============================] - 40s 102ms/step - loss: 0.1923 - accuracy: 0.9469 - false_negatives: 0.0000e+00 - false_positives: 124.0000\n",
      "-------- Now evaluating: Checkpoint 28 --------\n",
      "37/37 [==============================] - 40s 100ms/step - loss: 0.0337 - accuracy: 0.9884 - false_negatives: 18.0000 - false_positives: 9.0000\n",
      "-------- Now evaluating: Checkpoint 29 --------\n",
      "37/37 [==============================] - 46s 99ms/step - loss: 0.0963 - accuracy: 0.9709 - false_negatives: 64.0000 - false_positives: 4.0000\n",
      "-------- Now evaluating: Checkpoint 30 --------\n",
      "37/37 [==============================] - 46s 101ms/step - loss: 0.0209 - accuracy: 0.9936 - false_negatives: 3.0000 - false_positives: 12.0000\n",
      "-------- Now evaluating: Checkpoint 31 --------\n",
      "37/37 [==============================] - 45s 103ms/step - loss: 0.0014 - accuracy: 1.0000 - false_negatives: 0.0000e+00 - false_positives: 0.0000e+00\n",
      "-------- Now evaluating: Checkpoint 32 --------\n",
      "37/37 [==============================] - 45s 104ms/step - loss: 0.0096 - accuracy: 0.9957 - false_negatives: 9.0000 - false_positives: 1.0000\n",
      "-------- Now evaluating: Checkpoint 33 --------\n",
      "37/37 [==============================] - 50s 100ms/step - loss: 0.0832 - accuracy: 0.9799 - false_negatives: 47.0000 - false_positives: 0.0000e+00\n",
      "-------- Now evaluating: Checkpoint 34 --------\n",
      "37/37 [==============================] - 48s 104ms/step - loss: 0.0107 - accuracy: 0.9966 - false_negatives: 6.0000 - false_positives: 2.0000\n",
      "-------- Now evaluating: Checkpoint 35 --------\n",
      "37/37 [==============================] - 46s 105ms/step - loss: 0.0084 - accuracy: 0.9983 - false_negatives: 0.0000e+00 - false_positives: 4.0000\n",
      "-------- Now evaluating: Checkpoint 36 --------\n",
      "37/37 [==============================] - 47s 104ms/step - loss: 0.0046 - accuracy: 0.9983 - false_negatives: 4.0000 - false_positives: 0.0000e+00\n",
      "-------- Now evaluating: Checkpoint 37 --------\n",
      "37/37 [==============================] - 51s 103ms/step - loss: 0.0519 - accuracy: 0.9820 - false_negatives: 1.0000 - false_positives: 41.0000\n",
      "-------- Now evaluating: Checkpoint 38 --------\n",
      "37/37 [==============================] - 50s 104ms/step - loss: 0.0226 - accuracy: 0.9914 - false_negatives: 9.0000 - false_positives: 11.0000\n",
      "-------- Now evaluating: Checkpoint 39 --------\n",
      "37/37 [==============================] - 50s 104ms/step - loss: 0.0711 - accuracy: 0.9786 - false_negatives: 1.0000 - false_positives: 49.0000\n",
      "-------- Now evaluating: Checkpoint 40 --------\n",
      "37/37 [==============================] - 54s 104ms/step - loss: 0.0042 - accuracy: 0.9987 - false_negatives: 3.0000 - false_positives: 0.0000e+00\n",
      "-------- Now evaluating: Checkpoint 41 --------\n",
      "37/37 [==============================] - 53s 104ms/step - loss: 0.1631 - accuracy: 0.9615 - false_negatives: 1.0000 - false_positives: 89.0000\n",
      "-------- Now evaluating: Checkpoint 42 --------\n",
      "37/37 [==============================] - 53s 104ms/step - loss: 0.0034 - accuracy: 0.9991 - false_negatives: 1.0000 - false_positives: 1.0000\n",
      "-------- Now evaluating: Checkpoint 43 --------\n",
      "37/37 [==============================] - 54s 107ms/step - loss: 0.0035 - accuracy: 0.9991 - false_negatives: 0.0000e+00 - false_positives: 2.0000\n",
      "-------- Now evaluating: Checkpoint 44 --------\n",
      "37/37 [==============================] - 56s 103ms/step - loss: 0.0398 - accuracy: 0.9897 - false_negatives: 0.0000e+00 - false_positives: 24.0000\n",
      "-------- Now evaluating: Checkpoint 45 --------\n",
      "37/37 [==============================] - 56s 106ms/step - loss: 0.0285 - accuracy: 0.9906 - false_negatives: 3.0000 - false_positives: 19.0000\n",
      "-------- Now evaluating: Checkpoint 46 --------\n",
      "37/37 [==============================] - 57s 103ms/step - loss: 0.0087 - accuracy: 0.9970 - false_negatives: 7.0000 - false_positives: 0.0000e+00\n",
      "-------- Now evaluating: Checkpoint 47 --------\n",
      "37/37 [==============================] - 60s 106ms/step - loss: 0.0219 - accuracy: 0.9931 - false_negatives: 3.0000 - false_positives: 13.0000\n",
      "-------- Now evaluating: Checkpoint 48 --------\n",
      "37/37 [==============================] - 58s 111ms/step - loss: 0.0106 - accuracy: 0.9957 - false_negatives: 0.0000e+00 - false_positives: 10.0000\n",
      "-------- Now evaluating: Checkpoint 49 --------\n",
      "37/37 [==============================] - 59s 109ms/step - loss: 0.0010 - accuracy: 0.9996 - false_negatives: 1.0000 - false_positives: 0.0000e+00\n",
      "-------- Now evaluating: Checkpoint 50 --------\n",
      "37/37 [==============================] - 63s 107ms/step - loss: 0.0200 - accuracy: 0.9931 - false_negatives: 3.0000 - false_positives: 13.0000\n"
     ]
    }
   ],
   "source": [
    "# evaluate model from checkpoint test run, for every checkpoint\n",
    "model = ModelLoader().loadMobileNetV1(train_ds)\n",
    "model.compile(optimizer=tf.keras.optimizers.Adam(),\n",
    "              loss=tf.keras.losses.BinaryCrossentropy(),\n",
    "              metrics=['accuracy', tf.keras.metrics.FalseNegatives(), tf.keras.metrics.FalsePositives()])\n",
    "for i in range(1,51):\n",
    "    evaluateCheckpoint(model, i)"
   ]
  }
 ],
 "metadata": {
  "kernelspec": {
   "display_name": "Python 3.9.5 ('.env': venv)",
   "language": "python",
   "name": "python3"
  },
  "language_info": {
   "codemirror_mode": {
    "name": "ipython",
    "version": 3
   },
   "file_extension": ".py",
   "mimetype": "text/x-python",
   "name": "python",
   "nbconvert_exporter": "python",
   "pygments_lexer": "ipython3",
   "version": "3.9.5"
  },
  "orig_nbformat": 4,
  "vscode": {
   "interpreter": {
    "hash": "050a86c1e49b50a939c7f1648b7e57d527ba12504a9b8cc8c9f6f359e0405f48"
   }
  }
 },
 "nbformat": 4,
 "nbformat_minor": 2
}
